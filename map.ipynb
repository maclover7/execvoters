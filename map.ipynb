{
 "cells": [
  {
   "cell_type": "markdown",
   "id": "e69abf80-e147-41c2-9719-a4bf407a7bea",
   "metadata": {},
   "source": [
    "# Create map of Allegheny County municipalities, plus City of Pittsburgh wards"
   ]
  },
  {
   "cell_type": "code",
   "execution_count": 1,
   "id": "9df1219a-1b35-4027-832e-168e6dcc5f7b",
   "metadata": {},
   "outputs": [],
   "source": [
    "import geopandas as gpd"
   ]
  },
  {
   "cell_type": "markdown",
   "id": "c5f6c304-53e8-4543-ad9a-97c9668d3d20",
   "metadata": {},
   "source": [
    "### Load county municipalities"
   ]
  },
  {
   "cell_type": "code",
   "execution_count": 2,
   "id": "9cc5538e-fd33-407a-a4f0-15138822f5e1",
   "metadata": {},
   "outputs": [],
   "source": [
    "muni = gpd.read_file('input/county-muni.geojson')"
   ]
  },
  {
   "cell_type": "code",
   "execution_count": 3,
   "id": "c2c258bd-1ab9-49ac-bb7e-8a7bd30b47ec",
   "metadata": {},
   "outputs": [],
   "source": [
    "dup_muni_names = muni[muni.duplicated(subset='NAME')].NAME.unique()\n",
    "\n",
    "muni.loc[\n",
    "    (muni.NAME.isin(dup_muni_names)) & (muni.TYPE == 'BOROUGH'),\n",
    "    'NAME'\n",
    "] = muni.NAME + ' BR'\n",
    "\n",
    "muni.loc[\n",
    "    (muni.NAME.isin(dup_muni_names)) & (muni.TYPE == 'TOWNSHIP'),\n",
    "    'NAME'\n",
    "] = muni.NAME + ' TP'"
   ]
  },
  {
   "cell_type": "code",
   "execution_count": 4,
   "id": "afa1e54e-c78a-4190-b0c4-1432284cc4b6",
   "metadata": {},
   "outputs": [],
   "source": [
    "muni = muni[~(muni.NAME == 'PITTSBURGH')]"
   ]
  },
  {
   "cell_type": "code",
   "execution_count": 5,
   "id": "6bbba87f-5caa-4eea-aba6-21a0ac8af50b",
   "metadata": {},
   "outputs": [
    {
     "data": {
      "text/plain": [
       "129"
      ]
     },
     "execution_count": 5,
     "metadata": {},
     "output_type": "execute_result"
    }
   ],
   "source": [
    "len(muni)"
   ]
  },
  {
   "cell_type": "markdown",
   "id": "11d8b11e-c412-4b0e-8fa2-d1e899213838",
   "metadata": {},
   "source": [
    "### Load city wards"
   ]
  },
  {
   "cell_type": "code",
   "execution_count": 6,
   "id": "c4e121b5-b5f1-4fb6-abed-c9add04bf48e",
   "metadata": {},
   "outputs": [],
   "source": [
    "pghward = gpd.read_file('input/pgh-ward.geojson')\n",
    "pghward = pghward.drop_duplicates('wardtext')"
   ]
  },
  {
   "cell_type": "code",
   "execution_count": 7,
   "id": "cb6360ed-b0df-4dd7-ba22-391d26ed34a6",
   "metadata": {},
   "outputs": [],
   "source": [
    "pghward['NAME'] = 'PITTSBURGH WARD ' + pghward.wardtext"
   ]
  },
  {
   "cell_type": "code",
   "execution_count": 8,
   "id": "a757a697-9137-4ad1-b4c3-0431042a3345",
   "metadata": {},
   "outputs": [
    {
     "data": {
      "text/plain": [
       "32"
      ]
     },
     "execution_count": 8,
     "metadata": {},
     "output_type": "execute_result"
    }
   ],
   "source": [
    "len(pghward)"
   ]
  },
  {
   "cell_type": "markdown",
   "id": "f8963585-cc1e-46e6-991c-36203a1d575c",
   "metadata": {},
   "source": [
    "### Merge municipalities, wards"
   ]
  },
  {
   "cell_type": "markdown",
   "id": "f0d69c4f-80d2-4d61-a3ec-91c6792b0b47",
   "metadata": {},
   "source": [
    "### Save GeoJSON file"
   ]
  }
 ],
 "metadata": {
  "kernelspec": {
   "display_name": "Python 3 (ipykernel)",
   "language": "python",
   "name": "python3"
  },
  "language_info": {
   "codemirror_mode": {
    "name": "ipython",
    "version": 3
   },
   "file_extension": ".py",
   "mimetype": "text/x-python",
   "name": "python",
   "nbconvert_exporter": "python",
   "pygments_lexer": "ipython3",
   "version": "3.9.15"
  }
 },
 "nbformat": 4,
 "nbformat_minor": 5
}
