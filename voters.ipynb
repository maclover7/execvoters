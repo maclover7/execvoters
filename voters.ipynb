{
 "cells": [
  {
   "cell_type": "markdown",
   "id": "a9172c91-413a-49c6-a9e6-f3577450db68",
   "metadata": {},
   "source": [
    "# Analyze past Allegheny County primaries"
   ]
  },
  {
   "cell_type": "code",
   "execution_count": 1,
   "id": "1bb20710-abd8-483d-92bd-868b8cc8ba96",
   "metadata": {},
   "outputs": [],
   "source": [
    "import pandas as pd\n",
    "from PyPDF2 import PdfReader\n",
    "import re"
   ]
  },
  {
   "cell_type": "code",
   "execution_count": 2,
   "id": "933195c5-77c6-4762-b379-b5ab6341bfa0",
   "metadata": {},
   "outputs": [],
   "source": [
    "### Calculate relevant statistics, append year suffix to columns\n",
    "def calculate_stats(df, year):\n",
    "    df = df.groupby('precinct').agg({\n",
    "        'd_reg': 'sum',\n",
    "        'd_cast': 'sum'\n",
    "    }).reset_index()\n",
    "\n",
    "    df['turnout'] = df.d_cast / df.d_reg\n",
    "    df['ballots_pct_of_total'] = df.d_cast / df.d_cast.sum()\n",
    "    df['reg_pct_of_total'] = df.d_reg / df.d_reg.sum()\n",
    "\n",
    "    df.columns = [f'{i}_{year}' if i not in ['precinct'] else i for i in df.columns]\n",
    "    df = df.set_index('precinct')\n",
    "    return df\n",
    "\n",
    "### Remove ward and district and ward markings, but leave ward for Pittsburgh\n",
    "def format_precinct_name(precinct):\n",
    "    precinct = precinct.replace(' WD', ' WARD')\n",
    "    precinct = precinct.replace(' WRD', ' WARD')\n",
    "    precinct = re.sub(r' DIST.*', '', precinct)\n",
    "\n",
    "    if precinct.startswith('PITTSBURGH'):\n",
    "        return precinct\n",
    "    else:\n",
    "        return re.sub(r' WARD.*', '', precinct)"
   ]
  },
  {
   "cell_type": "code",
   "execution_count": 3,
   "id": "1e97ffc7-18ee-4a37-ba6e-552f8825c501",
   "metadata": {},
   "outputs": [],
   "source": [
    "def _parse_pdf_precinct_stats(index, precincts, precinct, text, d_reg_regex, d_cast_regex):\n",
    "    precinct_text_index = text.index(precinct)\n",
    "\n",
    "    if index == len(precincts) - 1:\n",
    "        next_precinct_text_index = len(text)\n",
    "    else:\n",
    "        next_precinct_text_index = text.index(precincts[index + 1])\n",
    "\n",
    "    precinct_text = text[precinct_text_index:next_precinct_text_index]\n",
    "    d_reg = re.findall(d_reg_regex, precinct_text)[0][0]\n",
    "    d_cast = re.findall(d_cast_regex, precinct_text)[0][0]\n",
    "\n",
    "    return { 'precinct': precinct, 'd_reg': d_reg, 'd_cast': d_cast }\n",
    "\n",
    "REGEX_PRECINCT = \"STATISTICS\\n(.*)\\n                                                      VOTES  PERCENT\"\n",
    "REGEX_D_CAST_15 = \"BALLOTS CAST - DEMOCRATIC .  .  .  .  .  .\\s+(\\d+)\\s+(.*)(\\n)?\\s+BALLOTS CAST - REPUBLICAN\"\n",
    "REGEX_D_REG_15 = \"REGISTERED VOTERS - DEMOCRATIC  .  .  .  .\\s+(\\d+)   (.*)(\\n)?           REGISTERED VOTERS - REPUBLICAN\"\n",
    "\n",
    "def parse_pdf_results(filename):\n",
    "    reader = PdfReader(filename)\n",
    "    text = \"\"\n",
    "\n",
    "    for page in reader.pages:\n",
    "        text += page.extract_text() + \"\\n\"\n",
    "\n",
    "    text = re.sub(\"Page \\d+\\n\", \"\", text)\n",
    "    precincts = re.findall(REGEX_PRECINCT, text)\n",
    "\n",
    "    d_cast_regex = REGEX_D_CAST_15\n",
    "    d_reg_regex = REGEX_D_REG_15\n",
    "\n",
    "    precincts_with_figures = [\n",
    "        _parse_pdf_precinct_stats(index, precincts, precinct, text, d_reg_regex, d_cast_regex)\n",
    "        for index, precinct in enumerate(precincts)\n",
    "    ]\n",
    "\n",
    "    df = pd.DataFrame.from_dict(precincts_with_figures)\n",
    "    df['precinct'] = df.precinct.str.replace(r'^\\d+ ', '', regex=True)\n",
    "    df['d_cast'] = df.d_cast.astype(int)\n",
    "    df['d_reg'] = df.d_reg.astype(int)\n",
    "\n",
    "    return df"
   ]
  },
  {
   "cell_type": "markdown",
   "id": "d61f1b64-d598-41ec-b3a8-ae13a8eb91a6",
   "metadata": {},
   "source": [
    "### Import voting data"
   ]
  },
  {
   "cell_type": "markdown",
   "id": "5af9faa7-cfdc-4675-8302-68afdcd8c9ff",
   "metadata": {},
   "source": [
    "##### Import P13"
   ]
  },
  {
   "cell_type": "markdown",
   "id": "90976d56-2c6f-4d8f-b7f7-8180a365abfd",
   "metadata": {},
   "source": [
    "##### Import P15"
   ]
  },
  {
   "cell_type": "code",
   "execution_count": 4,
   "id": "cf5b6993-1817-4821-86d9-4ba91f450ddc",
   "metadata": {},
   "outputs": [
    {
     "data": {
      "text/html": [
       "<div>\n",
       "<style scoped>\n",
       "    .dataframe tbody tr th:only-of-type {\n",
       "        vertical-align: middle;\n",
       "    }\n",
       "\n",
       "    .dataframe tbody tr th {\n",
       "        vertical-align: top;\n",
       "    }\n",
       "\n",
       "    .dataframe thead th {\n",
       "        text-align: right;\n",
       "    }\n",
       "</style>\n",
       "<table border=\"1\" class=\"dataframe\">\n",
       "  <thead>\n",
       "    <tr style=\"text-align: right;\">\n",
       "      <th></th>\n",
       "      <th>d_reg_15</th>\n",
       "      <th>d_cast_15</th>\n",
       "      <th>turnout_15</th>\n",
       "      <th>ballots_pct_of_total_15</th>\n",
       "      <th>reg_pct_of_total_15</th>\n",
       "    </tr>\n",
       "    <tr>\n",
       "      <th>precinct</th>\n",
       "      <th></th>\n",
       "      <th></th>\n",
       "      <th></th>\n",
       "      <th></th>\n",
       "      <th></th>\n",
       "    </tr>\n",
       "  </thead>\n",
       "  <tbody>\n",
       "    <tr>\n",
       "      <th>ALEPPO</th>\n",
       "      <td>472</td>\n",
       "      <td>74</td>\n",
       "      <td>0.15678</td>\n",
       "      <td>0.00065</td>\n",
       "      <td>0.00093</td>\n",
       "    </tr>\n",
       "  </tbody>\n",
       "</table>\n",
       "</div>"
      ],
      "text/plain": [
       "          d_reg_15  d_cast_15  turnout_15  ballots_pct_of_total_15  \\\n",
       "precinct                                                             \n",
       "ALEPPO         472         74     0.15678                  0.00065   \n",
       "\n",
       "          reg_pct_of_total_15  \n",
       "precinct                       \n",
       "ALEPPO                0.00093  "
      ]
     },
     "execution_count": 4,
     "metadata": {},
     "output_type": "execute_result"
    }
   ],
   "source": [
    "p15 = parse_pdf_results('input/primary_2015.pdf')\n",
    "\n",
    "p15['precinct'] = p15.precinct.apply(format_precinct_name)\n",
    "p15 = calculate_stats(p15, '15')\n",
    "p15.head(1)"
   ]
  },
  {
   "cell_type": "markdown",
   "id": "c9ace49c-bc61-4df8-982b-fd793fd34281",
   "metadata": {},
   "source": [
    "##### Import P17"
   ]
  },
  {
   "cell_type": "code",
   "execution_count": 5,
   "id": "44a5cc67-8eb1-4477-973f-111b2b4ab325",
   "metadata": {},
   "outputs": [
    {
     "data": {
      "text/html": [
       "<div>\n",
       "<style scoped>\n",
       "    .dataframe tbody tr th:only-of-type {\n",
       "        vertical-align: middle;\n",
       "    }\n",
       "\n",
       "    .dataframe tbody tr th {\n",
       "        vertical-align: top;\n",
       "    }\n",
       "\n",
       "    .dataframe thead th {\n",
       "        text-align: right;\n",
       "    }\n",
       "</style>\n",
       "<table border=\"1\" class=\"dataframe\">\n",
       "  <thead>\n",
       "    <tr style=\"text-align: right;\">\n",
       "      <th></th>\n",
       "      <th>d_reg_17</th>\n",
       "      <th>d_cast_17</th>\n",
       "      <th>turnout_17</th>\n",
       "      <th>ballots_pct_of_total_17</th>\n",
       "      <th>reg_pct_of_total_17</th>\n",
       "    </tr>\n",
       "    <tr>\n",
       "      <th>precinct</th>\n",
       "      <th></th>\n",
       "      <th></th>\n",
       "      <th></th>\n",
       "      <th></th>\n",
       "      <th></th>\n",
       "    </tr>\n",
       "  </thead>\n",
       "  <tbody>\n",
       "    <tr>\n",
       "      <th>ALEPPO</th>\n",
       "      <td>520</td>\n",
       "      <td>123</td>\n",
       "      <td>0.236538</td>\n",
       "      <td>0.001016</td>\n",
       "      <td>0.000967</td>\n",
       "    </tr>\n",
       "  </tbody>\n",
       "</table>\n",
       "</div>"
      ],
      "text/plain": [
       "          d_reg_17  d_cast_17  turnout_17  ballots_pct_of_total_17  \\\n",
       "precinct                                                             \n",
       "ALEPPO         520        123    0.236538                 0.001016   \n",
       "\n",
       "          reg_pct_of_total_17  \n",
       "precinct                       \n",
       "ALEPPO               0.000967  "
      ]
     },
     "execution_count": 5,
     "metadata": {},
     "output_type": "execute_result"
    }
   ],
   "source": [
    "p17 = pd.read_csv('input/primary_2017.csv')\n",
    "p17 = p17[['Precinct Name', 'Democratic Reg Voters', 'Democratic Ballots Cast']]\n",
    "p17.columns = ['precinct', 'd_reg', 'd_cast']\n",
    "\n",
    "p17['precinct'] = p17.precinct.apply(format_precinct_name)\n",
    "p17 = calculate_stats(p17, '17')\n",
    "p17.head(1)"
   ]
  },
  {
   "cell_type": "markdown",
   "id": "38f4d06f-36de-4dd9-b46e-fcaa6b37dbf1",
   "metadata": {},
   "source": [
    "##### Import P19"
   ]
  },
  {
   "cell_type": "code",
   "execution_count": 6,
   "id": "6987c740-6d1f-48df-84e1-521af7a036d7",
   "metadata": {},
   "outputs": [
    {
     "data": {
      "text/html": [
       "<div>\n",
       "<style scoped>\n",
       "    .dataframe tbody tr th:only-of-type {\n",
       "        vertical-align: middle;\n",
       "    }\n",
       "\n",
       "    .dataframe tbody tr th {\n",
       "        vertical-align: top;\n",
       "    }\n",
       "\n",
       "    .dataframe thead th {\n",
       "        text-align: right;\n",
       "    }\n",
       "</style>\n",
       "<table border=\"1\" class=\"dataframe\">\n",
       "  <thead>\n",
       "    <tr style=\"text-align: right;\">\n",
       "      <th></th>\n",
       "      <th>d_reg_19</th>\n",
       "      <th>d_cast_19</th>\n",
       "      <th>turnout_19</th>\n",
       "      <th>ballots_pct_of_total_19</th>\n",
       "      <th>reg_pct_of_total_19</th>\n",
       "    </tr>\n",
       "    <tr>\n",
       "      <th>precinct</th>\n",
       "      <th></th>\n",
       "      <th></th>\n",
       "      <th></th>\n",
       "      <th></th>\n",
       "      <th></th>\n",
       "    </tr>\n",
       "  </thead>\n",
       "  <tbody>\n",
       "    <tr>\n",
       "      <th>ALEPPO</th>\n",
       "      <td>527</td>\n",
       "      <td>98</td>\n",
       "      <td>0.185958</td>\n",
       "      <td>0.00083</td>\n",
       "      <td>0.000955</td>\n",
       "    </tr>\n",
       "  </tbody>\n",
       "</table>\n",
       "</div>"
      ],
      "text/plain": [
       "          d_reg_19  d_cast_19  turnout_19  ballots_pct_of_total_19  \\\n",
       "precinct                                                             \n",
       "ALEPPO         527         98    0.185958                  0.00083   \n",
       "\n",
       "          reg_pct_of_total_19  \n",
       "precinct                       \n",
       "ALEPPO               0.000955  "
      ]
     },
     "execution_count": 6,
     "metadata": {},
     "output_type": "execute_result"
    }
   ],
   "source": [
    "p19 = pd.read_csv('input/primary_2019.csv')\n",
    "p19 = p19[['Precinct Name', 'Democratic Reg Voters', 'Democratic Ballots Cast']]\n",
    "p19.columns = ['precinct', 'd_reg', 'd_cast']\n",
    "\n",
    "p19['d_cast'] = p19.d_cast.str.replace(r'.\\s', '', regex=True).astype(int)\n",
    "\n",
    "p19['precinct'] = p19.precinct.apply(format_precinct_name)\n",
    "p19 = calculate_stats(p19, '19')\n",
    "p19.head(1)"
   ]
  },
  {
   "cell_type": "markdown",
   "id": "9d1204ea-1ab1-4d43-badf-bc2e4af31dfa",
   "metadata": {},
   "source": [
    "### Merge primaries; adjust precinct names"
   ]
  },
  {
   "cell_type": "markdown",
   "id": "a1cd1e0d-02ac-497f-b6f0-5c80843349df",
   "metadata": {},
   "source": [
    "### Analyze primaries"
   ]
  },
  {
   "cell_type": "markdown",
   "id": "8c5f930a-9f89-4a03-9302-f432f5882424",
   "metadata": {},
   "source": [
    "##### PGH vs. non-PGH"
   ]
  }
 ],
 "metadata": {
  "kernelspec": {
   "display_name": "Python 3 (ipykernel)",
   "language": "python",
   "name": "python3"
  },
  "language_info": {
   "codemirror_mode": {
    "name": "ipython",
    "version": 3
   },
   "file_extension": ".py",
   "mimetype": "text/x-python",
   "name": "python",
   "nbconvert_exporter": "python",
   "pygments_lexer": "ipython3",
   "version": "3.9.15"
  }
 },
 "nbformat": 4,
 "nbformat_minor": 5
}
