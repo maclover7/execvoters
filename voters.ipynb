{
 "cells": [
  {
   "cell_type": "markdown",
   "id": "a9172c91-413a-49c6-a9e6-f3577450db68",
   "metadata": {},
   "source": [
    "# Analyze past Allegheny County primaries"
   ]
  },
  {
   "cell_type": "markdown",
   "id": "d61f1b64-d598-41ec-b3a8-ae13a8eb91a6",
   "metadata": {},
   "source": [
    "### Import voting data"
   ]
  },
  {
   "cell_type": "markdown",
   "id": "c9ace49c-bc61-4df8-982b-fd793fd34281",
   "metadata": {},
   "source": [
    "##### Import P17"
   ]
  },
  {
   "cell_type": "markdown",
   "id": "38f4d06f-36de-4dd9-b46e-fcaa6b37dbf1",
   "metadata": {},
   "source": [
    "##### Import P19"
   ]
  },
  {
   "cell_type": "markdown",
   "id": "9d1204ea-1ab1-4d43-badf-bc2e4af31dfa",
   "metadata": {},
   "source": [
    "### Merge primaries; adjust precinct names"
   ]
  },
  {
   "cell_type": "markdown",
   "id": "a1cd1e0d-02ac-497f-b6f0-5c80843349df",
   "metadata": {},
   "source": [
    "### Analyze primaries"
   ]
  },
  {
   "cell_type": "markdown",
   "id": "8c5f930a-9f89-4a03-9302-f432f5882424",
   "metadata": {},
   "source": [
    "##### PGH vs. non-PGH"
   ]
  }
 ],
 "metadata": {
  "kernelspec": {
   "display_name": "Python 3 (ipykernel)",
   "language": "python",
   "name": "python3"
  },
  "language_info": {
   "codemirror_mode": {
    "name": "ipython",
    "version": 3
   },
   "file_extension": ".py",
   "mimetype": "text/x-python",
   "name": "python",
   "nbconvert_exporter": "python",
   "pygments_lexer": "ipython3",
   "version": "3.9.15"
  }
 },
 "nbformat": 4,
 "nbformat_minor": 5
}
